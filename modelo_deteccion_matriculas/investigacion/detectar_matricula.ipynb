{
 "cells": [
  {
   "cell_type": "markdown",
   "id": "5f260a0a",
   "metadata": {},
   "source": [
    "# 📸 Detección de Matrículas con YOLO y EasyOCR\n",
    "Este notebook detecta matrículas en imágenes usando YOLOv8 y extrae su texto con EasyOCR. Además, muestra las imágenes procesadas con los resultados obtenidos."
   ]
  },
  {
   "cell_type": "code",
   "execution_count": null,
   "id": "9fd1478d",
   "metadata": {},
   "outputs": [],
   "source": [
    "\n",
    "import cv2\n",
    "import easyocr\n",
    "import numpy as np\n",
    "import matplotlib.pyplot as plt\n",
    "from ultralytics import YOLO\n",
    "\n",
    "# Cargar modelo YOLO para detección de matrículas\n",
    "model = YOLO(\"license_plate_detector.pt\")\n",
    "    "
   ]
  },
  {
   "cell_type": "markdown",
   "id": "db3ac7fb",
   "metadata": {},
   "source": [
    "## 📌 Funciones para detección y extracción de texto"
   ]
  },
  {
   "cell_type": "code",
   "execution_count": null,
   "id": "70430bbd",
   "metadata": {},
   "outputs": [],
   "source": [
    "\n",
    "def detect_license_plate(image_path):\n",
    "    \"\"\"\n",
    "    Detecta la matrícula en una imagen usando YOLOv8.\n",
    "    \"\"\"\n",
    "    results = model(image_path)\n",
    "    image = cv2.imread(image_path)\n",
    "    image_rgb = cv2.cvtColor(image, cv2.COLOR_BGR2RGB)\n",
    "    \n",
    "    for result in results:\n",
    "        for box in result.boxes.xyxy:\n",
    "            x1, y1, x2, y2 = map(int, box[:4])\n",
    "            plate_img = image[y1:y2, x1:x2]\n",
    "            return plate_img, (x1, y1, x2, y2), image_rgb\n",
    "    \n",
    "    print(\"No se detectó ninguna matrícula.\")\n",
    "    return None, None, image_rgb\n",
    "\n",
    "def extract_text_from_plate(plate_img):\n",
    "    \"\"\"\n",
    "    Usa EasyOCR para extraer el texto de la matrícula.\n",
    "    \"\"\"\n",
    "    reader = easyocr.Reader(['en'])\n",
    "    results = reader.readtext(plate_img, detail=0)\n",
    "    return \" \".join(results).strip()\n",
    "    "
   ]
  },
  {
   "cell_type": "markdown",
   "id": "85b8cd4c",
   "metadata": {},
   "source": [
    "## 🔍 Cargar la imagen y realizar detección"
   ]
  },
  {
   "cell_type": "code",
   "execution_count": null,
   "id": "99bfe6e9",
   "metadata": {},
   "outputs": [],
   "source": [
    "\n",
    "# Ruta de la imagen a analizar\n",
    "image_path = \"imagen4.jpg\"  # Reemplaza con la ruta de tu imagen\n",
    "\n",
    "# Detectar matrícula\n",
    "plate_img, bbox, original_image = detect_license_plate(image_path)\n",
    "\n",
    "if plate_img is not None:\n",
    "    # Extraer texto\n",
    "    plate_text = extract_text_from_plate(plate_img)\n",
    "    \n",
    "    # Dibujar el rectángulo en la imagen original\n",
    "    x1, y1, x2, y2 = bbox\n",
    "    cv2.rectangle(original_image, (x1, y1), (x2, y2), (0, 255, 0), 2)\n",
    "    \n",
    "    # Mostrar imágenes\n",
    "    fig, ax = plt.subplots(1, 3, figsize=(15, 5))\n",
    "    ax[0].imshow(original_image)\n",
    "    ax[0].set_title(\"Imagen Original con Detección\")\n",
    "    ax[0].axis(\"off\")\n",
    "    \n",
    "    ax[1].imshow(cv2.cvtColor(plate_img, cv2.COLOR_BGR2RGB))\n",
    "    ax[1].set_title(\"Matrícula Detectada\")\n",
    "    ax[1].axis(\"off\")\n",
    "    \n",
    "    ax[2].text(0.5, 0.5, plate_text, fontsize=20, ha='center', va='center', \n",
    "                bbox=dict(facecolor='yellow', alpha=0.5))\n",
    "    ax[2].set_title(\"Texto Detectado\")\n",
    "    ax[2].axis(\"off\")\n",
    "    \n",
    "    plt.show()\n",
    "else:\n",
    "    print(\"No se pudo detectar la matrícula.\")\n",
    "    "
   ]
  }
 ],
 "metadata": {},
 "nbformat": 4,
 "nbformat_minor": 5
}
